{
 "cells": [
  {
   "cell_type": "markdown",
   "metadata": {},
   "source": [
    "# 微信红包算法"
   ]
  },
  {
   "cell_type": "markdown",
   "metadata": {},
   "source": [
    "二倍均值法"
   ]
  },
  {
   "cell_type": "markdown",
   "metadata": {},
   "source": [
    "\n",
    "\n",
    "\n",
    "剩余红包金额为M，剩余人数为N，那么有如下公式：\n",
    "\n",
    "\n",
    "\n",
    "每次抢到的金额 = 随机区间 （0， M / N X 2）\n",
    "\n",
    "\n",
    "\n",
    "这个公式，保证了每次随机金额的平均值是相等的，不会因为抢红包的先后顺序而造成不公平。\n",
    "\n",
    "\n",
    "\n",
    "举个栗子：\n",
    "\n",
    "\n",
    "\n",
    "假设有10个人，红包总额100元。\n",
    "\n",
    "\n",
    "\n",
    "100/10X2 = 20, 所以第一个人的随机范围是（0，20 )，平均可以抢到10元。\n",
    "\n",
    "\n",
    "\n",
    "假设第一个人随机到10元，那么剩余金额是100-10 = 90 元。\n",
    "\n",
    "\n",
    "\n",
    "90/9X2 = 20, 所以第二个人的随机范围同样是（0，20 )，平均可以抢到10元。\n",
    "\n",
    "\n",
    "\n",
    "\n",
    "假设第二个人随机到10元，那么剩余金额是90-10 = 80 元。\n",
    "\n",
    "\n",
    "\n",
    "80/8X2 = 20, 所以第三个人的随机范围同样是（0，20 )，平均可以抢到10元。\n",
    "\n",
    "\n",
    "\n",
    "以此类推，每一次随机范围的均值是相等的。"
   ]
  },
  {
   "cell_type": "code",
   "execution_count": 1,
   "metadata": {
    "collapsed": true
   },
   "outputs": [],
   "source": [
    "import random\n",
    "import sys"
   ]
  },
  {
   "cell_type": "code",
   "execution_count": null,
   "metadata": {
    "collapsed": true
   },
   "outputs": [],
   "source": [
    "def randBonus(min, max, total,num):\n",
    "    print min, max, total, num \n",
    "    #print \"{:.2f}\".format(3.1415029)\n",
    "    total = float(total)\n",
    "    num = int(num)\n",
    "    min = 0.01\n",
    "     \n",
    "    if num < 1:\n",
    "        return\n",
    "    if num == 1:\n",
    "        print \"第%d个人拿到红包数:%.2f\" % (num,total)\n",
    "        return\n",
    "    i = 1\n",
    "    totalMoney = total\n",
    "    while(i < num):\n",
    "        max = totalMoney - min*(num- i)\n",
    "        k = int((num-i)/2)\n",
    "        if num -i <= 2:\n",
    "            k = num -i\n",
    "        max = max/k\n",
    "        monney = random.randint(int(min*100), int(max*100))\n",
    "        monney = float(monney)/100\n",
    "        totalMoney = totalMoney - monney\n",
    "        print \"第%d个人拿到红包为:%.2f, 余额:%.2f\"%(i,monney,totalMoney)\n",
    "        i += 1\n",
    " \n",
    "    print \"第%d个人拿到红包为:%.2f, 余额:%.2f\"%(i,totalMoney,0.00)"
   ]
  },
  {
   "cell_type": "code",
   "execution_count": null,
   "metadata": {
    "collapsed": true
   },
   "outputs": [],
   "source": [
    "if __name__ == '__main__':\n",
    "    min = sys.argv[1]\n",
    "    max = sys.argv[2]\n",
    "    total = sys.argv[3]\n",
    "    num = sys.argv[4]\n",
    "    randBonus(min, max, total, num)"
   ]
  },
  {
   "cell_type": "markdown",
   "metadata": {},
   "source": [
    "线段切割法"
   ]
  },
  {
   "cell_type": "markdown",
   "metadata": {},
   "source": [
    "我们可以把红包总金额想象成一条很长的线段，而每个人抢到的金额，则是这条主线段所拆分出的若干子线段。\n",
    "如何确定每一条子线段的长度呢？由“切割点”来决定。当N个人一起抢红包的时候，就需要确定N-1个切割点。\n",
    "\n",
    "\n",
    "\n",
    "因此，当N个人一起抢总金额为M的红包时，我们需要做N-1次随机运算，以此确定N-1个切割点。随机的范围区间是（1， M）。\n",
    "\n",
    "\n",
    "\n",
    "当所有切割点确定以后，子线段的长度也随之确定。这样每个人来抢红包的时候，只需要顺次领取与子线段长度等价的红包金额即可。\n",
    "\n",
    "\n",
    "\n",
    "这就是线段切割法的思路。在这里需要注意以下两点：\n",
    "\n",
    "\n",
    "\n",
    "1.当随机切割点出现重复，如何处理。\n",
    "\n",
    "2.如何尽可能降低时间复杂度和空间复杂度。\n",
    "\n",
    "\n"
   ]
  },
  {
   "cell_type": "code",
   "execution_count": null,
   "metadata": {
    "collapsed": true
   },
   "outputs": [],
   "source": []
  }
 ],
 "metadata": {
  "anaconda-cloud": {},
  "kernelspec": {
   "display_name": "Python [conda root]",
   "language": "python",
   "name": "conda-root-py"
  },
  "language_info": {
   "codemirror_mode": {
    "name": "ipython",
    "version": 3
   },
   "file_extension": ".py",
   "mimetype": "text/x-python",
   "name": "python",
   "nbconvert_exporter": "python",
   "pygments_lexer": "ipython3",
   "version": "3.5.2"
  }
 },
 "nbformat": 4,
 "nbformat_minor": 1
}
